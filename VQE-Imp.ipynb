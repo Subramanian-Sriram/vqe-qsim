{
 "cells": [
  {
   "cell_type": "code",
   "execution_count": 9,
   "id": "c61c6113-e1ac-48da-a1a2-d8159534003e",
   "metadata": {},
   "outputs": [],
   "source": [
    "import numpy as np\n",
    "import qiskit_nature\n",
    "from qiskit.algorithms.minimum_eigensolvers import VQE\n",
    "from qiskit_nature.second_q.transformers import FreezeCoreTransformer\n",
    "from qiskit_nature.second_q.formats.molecule_info import MoleculeInfo\n",
    "from qiskit_nature.second_q.mappers import ParityMapper\n",
    "from qiskit_nature.second_q.circuit.library import UCCSD, HartreeFock\n",
    "\n",
    "qiskit_nature.settings.use_pauli_sum_op = False\n",
    "from qiskit_nature.second_q.drivers import PySCFDriver\n",
    "import matplotlib.pyplot as plt\n",
    "from qiskit.circuit.library import EfficientSU2\n",
    "from qiskit_aer.primitives import Estimator\n",
    "from qiskit.algorithms.optimizers import SLSQP,SPSA,CG\n"
   ]
  },
  {
   "cell_type": "code",
   "execution_count": 15,
   "id": "e69d23a4-3cf2-499e-91ae-18fb236fefb3",
   "metadata": {},
   "outputs": [],
   "source": [
    "def get_qubit_info(dist, Molecule):\n",
    "\n",
    "\n",
    "    #Select Molecule\n",
    "    if Molecule==\"1\":\n",
    "        molecule = MoleculeInfo(\n",
    "        symbols=[\"C\",\"C\"],\n",
    "        coords=([0.0, 0.0, 0.0], [dist,0.0,0.0]),\n",
    "        multiplicity=1,  \n",
    "        charge=0,\n",
    "        )\n",
    "    elif Molecule==\"2\":\n",
    "        molecule = MoleculeInfo(\n",
    "        symbols=[\"S\",\"Mo\", \"S\"],\n",
    "        coords=([0.0, 0.0, 0.0], [dist,0.0,0.0],[2*dist, 0.0, 0.0]),\n",
    "        multiplicity=1, \n",
    "        charge=0,\n",
    "        )\n",
    "    elif Molecule==\"3\":\n",
    "        molecule = MoleculeInfo(\n",
    "        symbols=[\"P\",\"P\"],\n",
    "        coords=([0.0, 0.0, 0.0], [dist,0.0,0.0]),\n",
    "        multiplicity=1,\n",
    "        charge=0,\n",
    "        )\n",
    "    elif Molecule==\"4\":\n",
    "        molecule = MoleculeInfo(\n",
    "        symbols=[\"Si\",\"Si\"],\n",
    "        coords=([0.0, 0.0, 0.0], [dist,0.0,0.0]),\n",
    "        multiplicity=1,\n",
    "        charge=0,\n",
    "        )\n",
    "\n",
    "    driver = PySCFDriver.from_molecule(molecule,basis='sto3g')\n",
    "\n",
    "    #  properties of the Molecule Selected\n",
    "    properties_molecule = driver.run()\n",
    "    prop = FreezeCoreTransformer(\n",
    "        freeze_core=True\n",
    "    ).transform(properties_molecule)\n",
    "\n",
    "    no_particles = prop.num_particles\n",
    "    no_spatial_orbitals = prop.num_spatial_orbitals\n",
    "\n",
    "    mapper = ParityMapper(num_particles=no_particles)\n",
    "    qubit = mapper.map(prop.second_q_ops()[0])\n",
    "    return qubit, no_particles, no_spatial_orbitals, prop, mapper"
   ]
  },
  {
   "cell_type": "code",
   "execution_count": null,
   "id": "da9101dc-2c73-4212-b329-edcf9d8e0e24",
   "metadata": {},
   "outputs": [
    {
     "name": "stdout",
     "output_type": "stream",
     "text": [
      "Select the anode molecule to find the minimum energy\n",
      "1. Graphene  \n",
      "2. MoS2 \n",
      "3. Phosphorene \n",
      "4. Silicene \n"
     ]
    },
    {
     "name": "stdin",
     "output_type": "stream",
     "text": [
      "Selected Molecule 1\n"
     ]
    },
    {
     "name": "stdout",
     "output_type": "stream",
     "text": [
      "1\n",
      "\n",
      "Calculation Started - Step  1.0\n",
      "qubit Info Obtained\n",
      "Initial State configured\n"
     ]
    }
   ],
   "source": [
    "\n",
    "print(\"Select the anode molecule to find the minimum energy\")\n",
    "print(\"1. Graphene  \\n2. MoS2 \\n3. Phosphorene \\n4. Silicene \")\n",
    "molecule=input(\"Selected Molecule\")\n",
    "print(molecule)\n",
    "bond_lengths = np.arange(1.0, 3.0, 0.25)\n",
    "\n",
    "vqe_E = []\n",
    "#optimizer = SLSQP(maxiter=5)\n",
    "optimizer=CG(maxiter=5)\n",
    "estimator = Estimator(approximation=True)\n",
    "for bl in bond_lengths:\n",
    "    print(\"\\nCalculation Started - Step \",bl)\n",
    "    (qubit, no_particles, no_spatial_orbitals, prop, mapper) = get_qubit_info(\n",
    "        bl,molecule)\n",
    "    print(\"qubit Info Obtained\")\n",
    "    initial_state = HartreeFock(no_spatial_orbitals, no_particles, mapper)\n",
    "    print(\"Initial State configured\")\n",
    "    vari_form = UCCSD(\n",
    "        no_spatial_orbitals, no_particles, mapper, initial_state=initial_state\n",
    "    )\n",
    "    \n",
    "    vqe = VQE(\n",
    "        estimator,\n",
    "        vari_form,\n",
    "        optimizer,\n",
    "        initial_point=[0] * vari_form.num_parameters,\n",
    "    )\n",
    "    calc = vqe.compute_minimum_eigenvalue(qubit)\n",
    "    result = problem.interpret(calc).total_energies[0].real\n",
    "    vqe_E.append(result)\n",
    "    print(\n",
    "        f\"Interatomic Distance: {np.round(bl, 2)}\",\n",
    "        f\"VQE Energy: {result:.5f}\",\n",
    "     \n",
    "    )\n",
    "\n",
    "\n",
    "plt.plot(bond_lengths, vqe_E, label=\"VQE Estimated Energy\")\n",
    "plt.xlabel(\"Atomic distance (Angstrom)\")\n",
    "plt.ylabel(\"Energy (Hartree)\")\n",
    "plt.legend()\n",
    "plt.show()"
   ]
  },
  {
   "cell_type": "code",
   "execution_count": null,
   "id": "22b718ba-c390-4700-bbaf-14a3b4b85c13",
   "metadata": {},
   "outputs": [],
   "source": []
  }
 ],
 "metadata": {
  "kernelspec": {
   "display_name": "Python 3 (ipykernel)",
   "language": "python",
   "name": "python3"
  },
  "language_info": {
   "codemirror_mode": {
    "name": "ipython",
    "version": 3
   },
   "file_extension": ".py",
   "mimetype": "text/x-python",
   "name": "python",
   "nbconvert_exporter": "python",
   "pygments_lexer": "ipython3",
   "version": "3.10.6"
  }
 },
 "nbformat": 4,
 "nbformat_minor": 5
}
